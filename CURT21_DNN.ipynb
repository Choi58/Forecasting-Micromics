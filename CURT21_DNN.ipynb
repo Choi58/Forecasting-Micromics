{
  "nbformat": 4,
  "nbformat_minor": 0,
  "metadata": {
    "colab": {
      "name": "CURT21_DNN",
      "provenance": []
    },
    "kernelspec": {
      "name": "python3",
      "display_name": "Python 3"
    },
    "language_info": {
      "name": "python"
    }
  },
  "cells": [
    {
      "cell_type": "code",
      "metadata": {
        "colab": {
          "base_uri": "https://localhost:8080/"
        },
        "id": "O0d-aOxvdjn8",
        "outputId": "f50c2a45-3213-4f99-ca04-e6bce5b08b76"
      },
      "source": [
        "from google.colab import drive\n",
        "drive.mount('/content/drive')"
      ],
      "execution_count": null,
      "outputs": [
        {
          "output_type": "stream",
          "text": [
            "Mounted at /content/drive\n"
          ],
          "name": "stdout"
        }
      ]
    },
    {
      "cell_type": "code",
      "metadata": {
        "id": "2_V3OmoDd96X"
      },
      "source": [
        "import csv\n",
        "import pandas as pd\n",
        "import matplotlib.pyplot as plt\n",
        "import seaborn as sns\n",
        "import pandas as pd\n",
        "import numpy as np"
      ],
      "execution_count": null,
      "outputs": []
    },
    {
      "cell_type": "code",
      "metadata": {
        "id": "vmWBd3-ud_QK"
      },
      "source": [
        "path = '/content/drive/My Drive/custom_data/'"
      ],
      "execution_count": null,
      "outputs": []
    },
    {
      "cell_type": "code",
      "metadata": {
        "id": "8XowdETseBN0"
      },
      "source": [
        "import pandas as pd\n",
        "ori_export = pd.read_csv(path+'exports.csv')\n",
        "ori_umcsent = pd.read_csv(path+'UMCSENT.csv', skiprows= 10 ,dtype = {'observation_date':str,'UMCSENT':float})\n",
        "ori_epu = pd.read_csv(path+'EPU.csv')"
      ],
      "execution_count": null,
      "outputs": []
    },
    {
      "cell_type": "code",
      "metadata": {
        "colab": {
          "base_uri": "https://localhost:8080/",
          "height": 203
        },
        "id": "wxPl8bDK8HTX",
        "outputId": "5f14aac5-81f7-4400-c8e4-7b5f876b572c"
      },
      "source": [
        "ori_export.head()"
      ],
      "execution_count": null,
      "outputs": [
        {
          "output_type": "execute_result",
          "data": {
            "text/html": [
              "<div>\n",
              "<style scoped>\n",
              "    .dataframe tbody tr th:only-of-type {\n",
              "        vertical-align: middle;\n",
              "    }\n",
              "\n",
              "    .dataframe tbody tr th {\n",
              "        vertical-align: top;\n",
              "    }\n",
              "\n",
              "    .dataframe thead th {\n",
              "        text-align: right;\n",
              "    }\n",
              "</style>\n",
              "<table border=\"1\" class=\"dataframe\">\n",
              "  <thead>\n",
              "    <tr style=\"text-align: right;\">\n",
              "      <th></th>\n",
              "      <th>기간</th>\n",
              "      <th>수출건수</th>\n",
              "      <th>수출금액</th>\n",
              "      <th>수입건수</th>\n",
              "      <th>수입금액</th>\n",
              "      <th>무역수지</th>\n",
              "    </tr>\n",
              "  </thead>\n",
              "  <tbody>\n",
              "    <tr>\n",
              "      <th>0</th>\n",
              "      <td>총계</td>\n",
              "      <td>137,838,022</td>\n",
              "      <td>8,854,654,327</td>\n",
              "      <td>249,266,008</td>\n",
              "      <td>8,067,363,795</td>\n",
              "      <td>787,290,532</td>\n",
              "    </tr>\n",
              "    <tr>\n",
              "      <th>1</th>\n",
              "      <td>2000.01</td>\n",
              "      <td>258,896</td>\n",
              "      <td>12,162,425</td>\n",
              "      <td>246,432</td>\n",
              "      <td>12,594,623</td>\n",
              "      <td>-432,198</td>\n",
              "    </tr>\n",
              "    <tr>\n",
              "      <th>2</th>\n",
              "      <td>2000.02</td>\n",
              "      <td>256,293</td>\n",
              "      <td>12,676,042</td>\n",
              "      <td>242,907</td>\n",
              "      <td>12,023,652</td>\n",
              "      <td>652,390</td>\n",
              "    </tr>\n",
              "    <tr>\n",
              "      <th>3</th>\n",
              "      <td>2000.03</td>\n",
              "      <td>313,910</td>\n",
              "      <td>14,429,703</td>\n",
              "      <td>293,016</td>\n",
              "      <td>14,212,011</td>\n",
              "      <td>217,692</td>\n",
              "    </tr>\n",
              "    <tr>\n",
              "      <th>4</th>\n",
              "      <td>2000.04</td>\n",
              "      <td>293,464</td>\n",
              "      <td>13,522,040</td>\n",
              "      <td>268,239</td>\n",
              "      <td>13,344,532</td>\n",
              "      <td>177,508</td>\n",
              "    </tr>\n",
              "  </tbody>\n",
              "</table>\n",
              "</div>"
            ],
            "text/plain": [
              "        기간         수출건수           수출금액         수입건수           수입금액         무역수지\n",
              "0       총계  137,838,022  8,854,654,327  249,266,008  8,067,363,795  787,290,532\n",
              "1  2000.01      258,896     12,162,425      246,432     12,594,623     -432,198\n",
              "2  2000.02      256,293     12,676,042      242,907     12,023,652      652,390\n",
              "3  2000.03      313,910     14,429,703      293,016     14,212,011      217,692\n",
              "4  2000.04      293,464     13,522,040      268,239     13,344,532      177,508"
            ]
          },
          "metadata": {
            "tags": []
          },
          "execution_count": 4
        }
      ]
    },
    {
      "cell_type": "code",
      "metadata": {
        "colab": {
          "base_uri": "https://localhost:8080/",
          "height": 203
        },
        "id": "_n_J2uNY8KGx",
        "outputId": "28c3100b-0203-4ba3-def8-c610330af2d7"
      },
      "source": [
        "ori_umcsent.head()"
      ],
      "execution_count": null,
      "outputs": [
        {
          "output_type": "execute_result",
          "data": {
            "text/html": [
              "<div>\n",
              "<style scoped>\n",
              "    .dataframe tbody tr th:only-of-type {\n",
              "        vertical-align: middle;\n",
              "    }\n",
              "\n",
              "    .dataframe tbody tr th {\n",
              "        vertical-align: top;\n",
              "    }\n",
              "\n",
              "    .dataframe thead th {\n",
              "        text-align: right;\n",
              "    }\n",
              "</style>\n",
              "<table border=\"1\" class=\"dataframe\">\n",
              "  <thead>\n",
              "    <tr style=\"text-align: right;\">\n",
              "      <th></th>\n",
              "      <th>observation_date</th>\n",
              "      <th>UMCSENT</th>\n",
              "    </tr>\n",
              "  </thead>\n",
              "  <tbody>\n",
              "    <tr>\n",
              "      <th>0</th>\n",
              "      <td>2000-01-01</td>\n",
              "      <td>112.0</td>\n",
              "    </tr>\n",
              "    <tr>\n",
              "      <th>1</th>\n",
              "      <td>2000-02-01</td>\n",
              "      <td>111.3</td>\n",
              "    </tr>\n",
              "    <tr>\n",
              "      <th>2</th>\n",
              "      <td>2000-03-01</td>\n",
              "      <td>107.1</td>\n",
              "    </tr>\n",
              "    <tr>\n",
              "      <th>3</th>\n",
              "      <td>2000-04-01</td>\n",
              "      <td>109.2</td>\n",
              "    </tr>\n",
              "    <tr>\n",
              "      <th>4</th>\n",
              "      <td>2000-05-01</td>\n",
              "      <td>110.7</td>\n",
              "    </tr>\n",
              "  </tbody>\n",
              "</table>\n",
              "</div>"
            ],
            "text/plain": [
              "  observation_date  UMCSENT\n",
              "0       2000-01-01    112.0\n",
              "1       2000-02-01    111.3\n",
              "2       2000-03-01    107.1\n",
              "3       2000-04-01    109.2\n",
              "4       2000-05-01    110.7"
            ]
          },
          "metadata": {
            "tags": []
          },
          "execution_count": 5
        }
      ]
    },
    {
      "cell_type": "code",
      "metadata": {
        "colab": {
          "base_uri": "https://localhost:8080/",
          "height": 203
        },
        "id": "B-sckyMS8MOi",
        "outputId": "43964fdd-fccf-4f4f-e762-b71ef4fb91d8"
      },
      "source": [
        "ori_epu.head()"
      ],
      "execution_count": null,
      "outputs": [
        {
          "output_type": "execute_result",
          "data": {
            "text/html": [
              "<div>\n",
              "<style scoped>\n",
              "    .dataframe tbody tr th:only-of-type {\n",
              "        vertical-align: middle;\n",
              "    }\n",
              "\n",
              "    .dataframe tbody tr th {\n",
              "        vertical-align: top;\n",
              "    }\n",
              "\n",
              "    .dataframe thead th {\n",
              "        text-align: right;\n",
              "    }\n",
              "</style>\n",
              "<table border=\"1\" class=\"dataframe\">\n",
              "  <thead>\n",
              "    <tr style=\"text-align: right;\">\n",
              "      <th></th>\n",
              "      <th>Year</th>\n",
              "      <th>Month</th>\n",
              "      <th>Three_Component_Index</th>\n",
              "      <th>News_Based_Policy_Uncert_Index</th>\n",
              "    </tr>\n",
              "  </thead>\n",
              "  <tbody>\n",
              "    <tr>\n",
              "      <th>0</th>\n",
              "      <td>1985</td>\n",
              "      <td>1.0</td>\n",
              "      <td>125.224739</td>\n",
              "      <td>103.748802</td>\n",
              "    </tr>\n",
              "    <tr>\n",
              "      <th>1</th>\n",
              "      <td>1985</td>\n",
              "      <td>2.0</td>\n",
              "      <td>99.020813</td>\n",
              "      <td>78.313202</td>\n",
              "    </tr>\n",
              "    <tr>\n",
              "      <th>2</th>\n",
              "      <td>1985</td>\n",
              "      <td>3.0</td>\n",
              "      <td>112.190506</td>\n",
              "      <td>100.761482</td>\n",
              "    </tr>\n",
              "    <tr>\n",
              "      <th>3</th>\n",
              "      <td>1985</td>\n",
              "      <td>4.0</td>\n",
              "      <td>102.811325</td>\n",
              "      <td>84.778870</td>\n",
              "    </tr>\n",
              "    <tr>\n",
              "      <th>4</th>\n",
              "      <td>1985</td>\n",
              "      <td>5.0</td>\n",
              "      <td>120.082725</td>\n",
              "      <td>98.053658</td>\n",
              "    </tr>\n",
              "  </tbody>\n",
              "</table>\n",
              "</div>"
            ],
            "text/plain": [
              "   Year  Month  Three_Component_Index  News_Based_Policy_Uncert_Index\n",
              "0  1985    1.0             125.224739                      103.748802\n",
              "1  1985    2.0              99.020813                       78.313202\n",
              "2  1985    3.0             112.190506                      100.761482\n",
              "3  1985    4.0             102.811325                       84.778870\n",
              "4  1985    5.0             120.082725                       98.053658"
            ]
          },
          "metadata": {
            "tags": []
          },
          "execution_count": 6
        }
      ]
    },
    {
      "cell_type": "code",
      "metadata": {
        "id": "Y-70yDqYeDRh"
      },
      "source": [
        "for i in ori_export.columns:\n",
        "  if i != '기간':\n",
        "    ori_export[i] = pd.to_numeric(ori_export[i].str.replace(pat=r'[^A-Za-z0-9]', repl= '', regex=True),downcast='float')"
      ],
      "execution_count": null,
      "outputs": []
    },
    {
      "cell_type": "code",
      "metadata": {
        "id": "5A80CXk6eEs8"
      },
      "source": [
        "f1 = ori_epu['Three_Component_Index'][180:430]\n",
        "f1.index = np.arange(0,250)\n",
        "trn_y = ori_export['수출금액'][1:251]\n",
        "trn_y.index = np.arange(0,250)\n",
        "DATA = pd.concat([ori_umcsent['UMCSENT'][:250],f1,trn_y],axis=1,ignore_index=True)\n",
        "DATA.index = ori_export['기간'][1:251]"
      ],
      "execution_count": null,
      "outputs": []
    },
    {
      "cell_type": "code",
      "metadata": {
        "id": "22e9N43VgEo_"
      },
      "source": [
        "DATA.columns = ['umcsent','epu','exports']"
      ],
      "execution_count": null,
      "outputs": []
    },
    {
      "cell_type": "code",
      "metadata": {
        "colab": {
          "base_uri": "https://localhost:8080/",
          "height": 234
        },
        "id": "UZDX-2Wxe2-1",
        "outputId": "4c4a3081-fe15-47f7-cea1-519027491de9"
      },
      "source": [
        "DATA.head()"
      ],
      "execution_count": null,
      "outputs": [
        {
          "output_type": "execute_result",
          "data": {
            "text/html": [
              "<div>\n",
              "<style scoped>\n",
              "    .dataframe tbody tr th:only-of-type {\n",
              "        vertical-align: middle;\n",
              "    }\n",
              "\n",
              "    .dataframe tbody tr th {\n",
              "        vertical-align: top;\n",
              "    }\n",
              "\n",
              "    .dataframe thead th {\n",
              "        text-align: right;\n",
              "    }\n",
              "</style>\n",
              "<table border=\"1\" class=\"dataframe\">\n",
              "  <thead>\n",
              "    <tr style=\"text-align: right;\">\n",
              "      <th></th>\n",
              "      <th>umcsent</th>\n",
              "      <th>epu</th>\n",
              "      <th>exports</th>\n",
              "    </tr>\n",
              "    <tr>\n",
              "      <th>기간</th>\n",
              "      <th></th>\n",
              "      <th></th>\n",
              "      <th></th>\n",
              "    </tr>\n",
              "  </thead>\n",
              "  <tbody>\n",
              "    <tr>\n",
              "      <th>2000.01</th>\n",
              "      <td>112.0</td>\n",
              "      <td>89.201538</td>\n",
              "      <td>12162425.0</td>\n",
              "    </tr>\n",
              "    <tr>\n",
              "      <th>2000.02</th>\n",
              "      <td>111.3</td>\n",
              "      <td>77.601395</td>\n",
              "      <td>12676042.0</td>\n",
              "    </tr>\n",
              "    <tr>\n",
              "      <th>2000.03</th>\n",
              "      <td>107.1</td>\n",
              "      <td>77.548309</td>\n",
              "      <td>14429703.0</td>\n",
              "    </tr>\n",
              "    <tr>\n",
              "      <th>2000.04</th>\n",
              "      <td>109.2</td>\n",
              "      <td>76.059227</td>\n",
              "      <td>13522040.0</td>\n",
              "    </tr>\n",
              "    <tr>\n",
              "      <th>2000.05</th>\n",
              "      <td>110.7</td>\n",
              "      <td>97.986206</td>\n",
              "      <td>14636755.0</td>\n",
              "    </tr>\n",
              "  </tbody>\n",
              "</table>\n",
              "</div>"
            ],
            "text/plain": [
              "         umcsent        epu     exports\n",
              "기간                                     \n",
              "2000.01    112.0  89.201538  12162425.0\n",
              "2000.02    111.3  77.601395  12676042.0\n",
              "2000.03    107.1  77.548309  14429703.0\n",
              "2000.04    109.2  76.059227  13522040.0\n",
              "2000.05    110.7  97.986206  14636755.0"
            ]
          },
          "metadata": {
            "tags": []
          },
          "execution_count": 8
        }
      ]
    },
    {
      "cell_type": "code",
      "metadata": {
        "id": "mp3CRjckeZiu"
      },
      "source": [
        "def prepared_data(data,win,h,model_name):\n",
        "  x = data.to_numpy()\n",
        "  x = (x-np.min(x,axis=0))/(np.max(x,axis=0)-np.min(x,axis=0))\n",
        "\n",
        "  if model_name == 'fc_model': #nc\n",
        "    X = np.hstack([x[1:-1],x[:-(h)]])\n",
        "    Y = x[(h):]\n",
        "    return (X,Y)\n",
        "  else:\n",
        "    X = np.zeros((x.shape[0]-win-h,win,x.shape[1]))\n",
        "    Y = np.zeros((x.shape[0]-win-h,x.shape[1]))\n",
        "    for i in range(win,x.shape[0]-h):\n",
        "      Y[i-win] = x[i+h-1,:]\n",
        "      X[i-win] = x[(i-win):i,:]\n",
        "    return (X,Y )"
      ],
      "execution_count": null,
      "outputs": []
    },
    {
      "cell_type": "code",
      "metadata": {
        "id": "69PIHGnvecXO"
      },
      "source": [
        "(X,Y) = prepared_data(DATA,win=None,h=2,model_name='fc_model')"
      ],
      "execution_count": null,
      "outputs": []
    },
    {
      "cell_type": "code",
      "metadata": {
        "colab": {
          "base_uri": "https://localhost:8080/"
        },
        "id": "XZlmnV-1gT1f",
        "outputId": "d83c302e-7ef1-4974-f5d6-e1dd1074da95"
      },
      "source": [
        "print(X[0])\n",
        "print(X[1])"
      ],
      "execution_count": null,
      "outputs": [
        {
          "output_type": "stream",
          "text": [
            "[0.98765432 0.06955932 0.03748973 1.         0.10911553 0.02584103]\n",
            "[0.91358025 0.0693783  0.07726232 0.98765432 0.06955932 0.03748973]\n"
          ],
          "name": "stdout"
        }
      ]
    },
    {
      "cell_type": "code",
      "metadata": {
        "id": "9GpbjpE49t3R"
      },
      "source": [
        "from keras import models\n",
        "from keras import layers\n",
        "\n",
        "def build_model(layer_n,feature_n,act_f='relu'):\n",
        "  model = models.Sequential()\n",
        "  model.add(layers.Dense(feature_n,activation=act_f,\n",
        "                         input_shape=(None,6)))\n",
        "  for i in range(layer_n):\n",
        "    model.add(layers.Dense(feature_n,activation=act_f))\n",
        "  model.add(layers.Dense(3))\n",
        "  model.compile(optimizer='adam',loss='mse',metrics=['mae'])\n",
        "  return model"
      ],
      "execution_count": null,
      "outputs": []
    },
    {
      "cell_type": "code",
      "metadata": {
        "colab": {
          "base_uri": "https://localhost:8080/"
        },
        "id": "D1PG84MWPqLN",
        "outputId": "9fdacfe1-eabb-4aaf-9426-aa63deaafa41"
      },
      "source": [
        "model = build_model(2,64,'relu')\n",
        "model.fit(X[:150],Y[:150],verbose=0,epochs=10)"
      ],
      "execution_count": null,
      "outputs": [
        {
          "output_type": "stream",
          "text": [
            "WARNING:tensorflow:Model was constructed with shape (None, None, 6) for input KerasTensor(type_spec=TensorSpec(shape=(None, None, 6), dtype=tf.float32, name='dense_97_input'), name='dense_97_input', description=\"created by layer 'dense_97_input'\"), but it was called on an input with incompatible shape (None, 6).\n",
            "WARNING:tensorflow:Model was constructed with shape (None, None, 6) for input KerasTensor(type_spec=TensorSpec(shape=(None, None, 6), dtype=tf.float32, name='dense_97_input'), name='dense_97_input', description=\"created by layer 'dense_97_input'\"), but it was called on an input with incompatible shape (None, 6).\n"
          ],
          "name": "stdout"
        },
        {
          "output_type": "execute_result",
          "data": {
            "text/plain": [
              "<keras.callbacks.History at 0x7f0c339dca90>"
            ]
          },
          "metadata": {
            "tags": []
          },
          "execution_count": 33
        }
      ]
    },
    {
      "cell_type": "code",
      "metadata": {
        "colab": {
          "base_uri": "https://localhost:8080/"
        },
        "id": "zJN3xHBmQNoA",
        "outputId": "eff7081d-5822-4eb5-bb92-68baaa8c226f"
      },
      "source": [
        "model.summary()"
      ],
      "execution_count": null,
      "outputs": [
        {
          "output_type": "stream",
          "text": [
            "Model: \"sequential_6\"\n",
            "_________________________________________________________________\n",
            "Layer (type)                 Output Shape              Param #   \n",
            "=================================================================\n",
            "dense_97 (Dense)             (None, None, 64)          448       \n",
            "_________________________________________________________________\n",
            "dense_98 (Dense)             (None, None, 64)          4160      \n",
            "_________________________________________________________________\n",
            "dense_99 (Dense)             (None, None, 64)          4160      \n",
            "_________________________________________________________________\n",
            "dense_100 (Dense)            (None, None, 3)           195       \n",
            "=================================================================\n",
            "Total params: 8,963\n",
            "Trainable params: 8,963\n",
            "Non-trainable params: 0\n",
            "_________________________________________________________________\n"
          ],
          "name": "stdout"
        }
      ]
    },
    {
      "cell_type": "code",
      "metadata": {
        "id": "5PfJyJwzSRyE"
      },
      "source": [
        "  x2 = DATA.to_numpy()\n",
        "  x2 = (x2-np.min(x2,axis=0))/(np.max(x2,axis=0)-np.min(x2,axis=0))"
      ],
      "execution_count": null,
      "outputs": []
    },
    {
      "cell_type": "code",
      "metadata": {
        "id": "eRxIwKoTR-e_"
      },
      "source": [
        " def trans2data(data1,data2,time):\n",
        "  data1 = data1[time]\n",
        "  t = np.hstack([data2,data1])\n",
        "  return t"
      ],
      "execution_count": null,
      "outputs": []
    },
    {
      "cell_type": "code",
      "metadata": {
        "id": "rn-TcMNH_V64"
      },
      "source": [
        "import keras\n",
        "tree_n = 50\n",
        "\n",
        "all_predicts = []\n",
        "all_layer = []\n",
        "all_feature = []\n",
        "all_epoch = []\n",
        "all_mse = []\n",
        "all_mae = []\n",
        "all_val_mse = []\n",
        "all_val_mae = []\n",
        "\n",
        "for i in range(tree_n):\n",
        "  print('tree_n :',i+1)\n",
        "  layer = np.random.randint(10, high=32, size=None, dtype=int)\n",
        "  feature = np.random.randint(6, high=128, size=None, dtype=int)\n",
        "  epoch_n = np.random.randint(15, high=50, size=None, dtype=int)\n",
        "  all_layer.append(layer)\n",
        "  all_feature.append(feature)\n",
        "  all_epoch.append(epoch_n)\n",
        "\n",
        "  result_tst = []\n",
        "  model = build_model(layer_n=layer,feature_n=feature,act_f='relu')\n",
        "  callback = keras.callbacks.EarlyStopping(monitor='val_loss', patience=2,mode='auto')\n",
        "  for j in range(20):\n",
        "    hist_model = model.fit(X[10+5*j:148+5*j],Y[10+5*j:148+5*j],epochs=epoch_n,\n",
        "                           validation_data = (X[5*j:10+5*j],Y[5*j:10+5*j]),\n",
        "                           callbacks = [callback],verbose=0,shuffle=True)\n",
        "    y_pred = X[148+5*j-1]\n",
        "    for k in range(5):\n",
        "      y_pred = model.predict(y_pred[np.newaxis])\n",
        "      result_tst.append(y_pred)\n",
        "      y_pred = trans2data(x2,y_pred.reshape(-1),time=(150-2+5*j))\n",
        "\n",
        "  all_predicts.append(result_tst)\n",
        "  all_mse.append(hist_model.history['loss'])\n",
        "  all_mae.append(hist_model.history['mae'])\n",
        "  all_val_mse.append(hist_model.history['val_loss'])\n",
        "  all_val_mae.append(hist_model.history['val_mae'])"
      ],
      "execution_count": null,
      "outputs": []
    },
    {
      "cell_type": "code",
      "metadata": {
        "colab": {
          "base_uri": "https://localhost:8080/"
        },
        "id": "-SjXf-c3Pl0b",
        "outputId": "5872d5c3-dbc3-417e-9883-fbf824679608"
      },
      "source": [
        "all_predicts = np.array(all_predicts)\n",
        "all_layer = np.array(all_layer)\n",
        "all_feature = np.array(all_feature)\n",
        "all_epoch = np.array(all_epoch)\n",
        "all_mse = np.array(all_mse)\n",
        "all_mae = np.array(all_mae)\n",
        "all_val_mse = np.array(all_val_mse)\n",
        "all_val_mae = np.array(all_val_mae)"
      ],
      "execution_count": null,
      "outputs": [
        {
          "output_type": "stream",
          "text": [
            "/usr/local/lib/python3.7/dist-packages/ipykernel_launcher.py:5: VisibleDeprecationWarning: Creating an ndarray from ragged nested sequences (which is a list-or-tuple of lists-or-tuples-or ndarrays with different lengths or shapes) is deprecated. If you meant to do this, you must specify 'dtype=object' when creating the ndarray\n",
            "  \"\"\"\n",
            "/usr/local/lib/python3.7/dist-packages/ipykernel_launcher.py:6: VisibleDeprecationWarning: Creating an ndarray from ragged nested sequences (which is a list-or-tuple of lists-or-tuples-or ndarrays with different lengths or shapes) is deprecated. If you meant to do this, you must specify 'dtype=object' when creating the ndarray\n",
            "  \n",
            "/usr/local/lib/python3.7/dist-packages/ipykernel_launcher.py:7: VisibleDeprecationWarning: Creating an ndarray from ragged nested sequences (which is a list-or-tuple of lists-or-tuples-or ndarrays with different lengths or shapes) is deprecated. If you meant to do this, you must specify 'dtype=object' when creating the ndarray\n",
            "  import sys\n",
            "/usr/local/lib/python3.7/dist-packages/ipykernel_launcher.py:8: VisibleDeprecationWarning: Creating an ndarray from ragged nested sequences (which is a list-or-tuple of lists-or-tuples-or ndarrays with different lengths or shapes) is deprecated. If you meant to do this, you must specify 'dtype=object' when creating the ndarray\n",
            "  \n"
          ],
          "name": "stderr"
        }
      ]
    },
    {
      "cell_type": "code",
      "metadata": {
        "colab": {
          "base_uri": "https://localhost:8080/"
        },
        "id": "9QxeFR5IXNLj",
        "outputId": "2f528f04-e28e-4c7b-fac6-6c80a10e45ae"
      },
      "source": [
        "all_predicts.shape"
      ],
      "execution_count": null,
      "outputs": [
        {
          "output_type": "execute_result",
          "data": {
            "text/plain": [
              "(50, 100, 1, 3)"
            ]
          },
          "metadata": {
            "tags": []
          },
          "execution_count": 87
        }
      ]
    },
    {
      "cell_type": "code",
      "metadata": {
        "colab": {
          "base_uri": "https://localhost:8080/",
          "height": 173
        },
        "id": "E6W2Ju0VWKAn",
        "outputId": "14e81a3b-3345-43ea-ff64-03901c766cc9"
      },
      "source": [
        "df1 = all_layer.copy()\n",
        "df2 = all_epoch.copy()\n",
        "df3 = all_feature.copy()\n",
        "\n",
        "plt.figure(figsize=(23,5))\n",
        "plt.subplot(1,3,1)\n",
        "plt.hist(df1,bins=100)\n",
        "plt.xlabel('layers')\n",
        "\n",
        "plt.subplot(1,3,2)\n",
        "plt.hist(df2,bins=100)\n",
        "plt.xlabel('epochs')\n",
        "\n",
        "plt.subplot(1,3,3)\n",
        "plt.hist(df3,bins=100)\n",
        "plt.xlabel('features')\n",
        "\n",
        "plt.show()"
      ],
      "execution_count": null,
      "outputs": [
        {
          "output_type": "display_data",
          "data": {
            "image/png": "[encoded data removed]",
            "text/plain": [
              "<Figure size 1656x360 with 3 Axes>"
            ]
          },
          "metadata": {
            "tags": [],
            "needs_background": "light"
          }
        }
      ]
    },
    {
      "cell_type": "code",
      "metadata": {
        "id": "RTeBJD5iWM3a"
      },
      "source": [
        "from scipy.stats import t\n",
        "\n",
        "sample = all_predicts.copy()\n",
        "sample_mean = sample.mean(axis=0)\n",
        "sample_std = sample.std(axis=0)\n",
        "\n",
        "df = tree_n-1\n",
        "t_ = t(df)\n",
        "t_05 = t_.ppf(0.95)\n",
        "L_= sample_mean - t_05*(sample_std/np.sqrt(tree_n))\n",
        "U_= sample_mean + t_05*(sample_std/np.sqrt(tree_n))\n",
        "\n",
        "df = tree_n-1\n",
        "t_ = t(df)\n",
        "t_10 = t_.ppf(0.90)\n",
        "L__= sample_mean - t_05*(sample_std/np.sqrt(tree_n))\n",
        "U__= sample_mean + t_05*(sample_std/np.sqrt(tree_n))"
      ],
      "execution_count": null,
      "outputs": []
    },
    {
      "cell_type": "code",
      "metadata": {
        "colab": {
          "base_uri": "https://localhost:8080/",
          "height": 320
        },
        "id": "0wyjO1vWWSbC",
        "outputId": "07ceda78-6ad1-4f2e-c10e-91b55c32cf7c"
      },
      "source": [
        "L = L_.copy()\n",
        "U = U_.copy()\n",
        "L2 = L__.copy()\n",
        "U2 = U__.copy()\n",
        "\n",
        "MU = sample_mean.copy().reshape(-1,3)\n",
        "\n",
        "L = L.reshape(-1,3)\n",
        "U = U.reshape(-1,3)\n",
        "L2 = L2.reshape(-1,3)\n",
        "U2 = U2.reshape(-1,3)\n",
        "\n",
        "days = np.arange(100)\n",
        "asw_y = Y[-100:]\n",
        "plt.figure(figsize=(23,5))\n",
        "plt.plot(days,MU[:,2],days,asw_y[:,2],'r-')\n",
        "#plt.fill_between(days, L, U, color='green', alpha=0.5)\n",
        "plt.fill_between(days, L2[:,2], U2[:,2], color='lightgray', alpha=0.5)\n",
        "plt.show()"
      ],
      "execution_count": null,
      "outputs": [
        {
          "output_type": "display_data",
          "data": {
            "image/png": "[encoded data removed]",
            "text/plain": [
              "<Figure size 1656x360 with 1 Axes>"
            ]
          },
          "metadata": {
            "tags": [],
            "needs_background": "light"
          }
        }
      ]
    },
    {
      "cell_type": "markdown",
      "metadata": {
        "id": "Fgc02UmrvEKO"
      },
      "source": [
        "#최적화"
      ]
    },
    {
      "cell_type": "code",
      "metadata": {
        "id": "BbqjwSQIvG3r"
      },
      "source": [
        "from keras import models\n",
        "from keras import layers\n",
        "model = models.Sequential()\n",
        "model.add(layers.Dense(60,'ReLU',input_shape=(None,6)))\n",
        "model.add(layers.Dropout(0.2))\n",
        "model.add(layers.Dense(30,'ReLU'))\n",
        "model.add(layers.Dropout(0.2))\n",
        "model.add(layers.Dense(3))\n",
        "model.compile(optimizer='adam',loss='mse',metrics=['mae'])"
      ],
      "execution_count": null,
      "outputs": []
    },
    {
      "cell_type": "code",
      "metadata": {
        "colab": {
          "base_uri": "https://localhost:8080/"
        },
        "id": "aWGa4U7Twvak",
        "outputId": "943c9e61-5728-4c90-fd52-1b89fad69eab"
      },
      "source": [
        "model.summary()"
      ],
      "execution_count": null,
      "outputs": [
        {
          "output_type": "stream",
          "text": [
            "Model: \"sequential_1\"\n",
            "_________________________________________________________________\n",
            "Layer (type)                 Output Shape              Param #   \n",
            "=================================================================\n",
            "dense (Dense)                (None, None, 60)          420       \n",
            "_________________________________________________________________\n",
            "dropout (Dropout)            (None, None, 60)          0         \n",
            "_________________________________________________________________\n",
            "dense_1 (Dense)              (None, None, 30)          1830      \n",
            "_________________________________________________________________\n",
            "dropout_1 (Dropout)          (None, None, 30)          0         \n",
            "_________________________________________________________________\n",
            "dense_2 (Dense)              (None, None, 3)           93        \n",
            "=================================================================\n",
            "Total params: 2,343\n",
            "Trainable params: 2,343\n",
            "Non-trainable params: 0\n",
            "_________________________________________________________________\n"
          ],
          "name": "stdout"
        }
      ]
    },
    {
      "cell_type": "code",
      "metadata": {
        "id": "bKDT9uBIxK1m"
      },
      "source": [
        "def trans2data(data1,data2,time):\n",
        " data1 = data1[time]\n",
        " t = np.hstack([data2,data1])\n",
        " return t"
      ],
      "execution_count": null,
      "outputs": []
    },
    {
      "cell_type": "code",
      "metadata": {
        "id": "SaZ6cufRxifX"
      },
      "source": [
        "x2 = DATA.to_numpy()\n",
        "x2 = (x2-np.min(x2,axis=0))/(np.max(x2,axis=0)-np.min(x2,axis=0))"
      ],
      "execution_count": null,
      "outputs": []
    },
    {
      "cell_type": "code",
      "metadata": {
        "id": "LthnD64FwZja"
      },
      "source": [
        "import tensorflow as tf\n",
        "result_tst = []\n",
        "callback = tf.keras.callbacks.EarlyStopping(monitor='val_loss', patience=2,mode='auto')\n",
        "for j in range(20):\n",
        "  hist_model = model.fit(X[10+5*j:148+5*j],Y[10+5*j:148+5*j],epochs=10,\n",
        "                         validation_data = (X[5*j:10+5*j],Y[5*j:10+5*j]),\n",
        "                         callbacks = [callback],verbose=0,shuffle=True)\n",
        "  y_pred = X[148+5*j-1]\n",
        "  for k in range(5):\n",
        "    y_pred = model.predict(y_pred[np.newaxis])\n",
        "    result_tst.append(y_pred)\n",
        "    y_pred = trans2data(x2,y_pred.reshape(-1),time=(150-2+5*j))"
      ],
      "execution_count": null,
      "outputs": []
    },
    {
      "cell_type": "code",
      "metadata": {
        "colab": {
          "base_uri": "https://localhost:8080/",
          "height": 375
        },
        "id": "pMrKwPByxC3d",
        "outputId": "ae8ad1c5-1394-433b-bd61-10e104558750"
      },
      "source": [
        "y_ = np.array(result_tst).reshape(-1,3)[:,2]\n",
        "asw_y = Y[-100:]\n",
        "days = np.arange(100)\n",
        "plt.figure(figsize=(23,5))\n",
        "plt.plot(days, y_ , days,asw_y[:,2] ,'r')"
      ],
      "execution_count": null,
      "outputs": [
        {
          "output_type": "execute_result",
          "data": {
            "text/plain": [
              "[<matplotlib.lines.Line2D at 0x7f289ade9a10>,\n",
              " <matplotlib.lines.Line2D at 0x7f289ae26110>]"
            ]
          },
          "metadata": {
            "tags": []
          },
          "execution_count": 27
        },
        {
          "output_type": "display_data",
          "data": {
            "image/png": "[encoded data removed]",
            "text/plain": [
              "<Figure size 1656x360 with 1 Axes>"
            ]
          },
          "metadata": {
            "tags": [],
            "needs_background": "light"
          }
        }
      ]
    },
    {
      "cell_type": "code",
      "metadata": {
        "id": "qomhSHE1yw9W"
      },
      "source": [
        "np.savetxt(path+'DNN_0710.txt', y_, fmt='%.6f', delimiter=',')"
      ],
      "execution_count": null,
      "outputs": []
    },
    {
      "cell_type": "markdown",
      "metadata": {
        "id": "XRxLyVfQ0Bcp"
      },
      "source": [
        "#DNN 실험실"
      ]
    },
    {
      "cell_type": "code",
      "metadata": {
        "id": "syFvl1wG0DyN"
      },
      "source": [
        "from keras import models\n",
        "from keras import layers\n",
        "model = models.Sequential()\n",
        "model.add(layers.Dense(60,'ReLU',input_shape=(None,6)))\n",
        "model.add(layers.Dropout(0.2))\n",
        "model.add(layers.Dense(30,'ReLU'))\n",
        "model.add(layers.Dropout(0.2))\n",
        "model.add(layers.Dense(3))\n",
        "model.compile(optimizer='adam',loss='mse',metrics=['mae'])"
      ],
      "execution_count": null,
      "outputs": []
    },
    {
      "cell_type": "code",
      "metadata": {
        "colab": {
          "base_uri": "https://localhost:8080/"
        },
        "id": "IexoYZAH0H-s",
        "outputId": "36a8c4b4-354a-4d51-b2d0-94d99b3980ec"
      },
      "source": [
        "callback = tf.keras.callbacks.EarlyStopping(monitor='val_loss', patience=2,mode='auto')\n",
        "hist_model = model.fit(X[10:148],Y[10:148],epochs=10,\n",
        "                       validation_data = (X[:10],Y[:10]),\n",
        "                       callbacks = [callback],verbose=0,shuffle=True)"
      ],
      "execution_count": null,
      "outputs": [
        {
          "output_type": "stream",
          "text": [
            "WARNING:tensorflow:Model was constructed with shape (None, None, 6) for input KerasTensor(type_spec=TensorSpec(shape=(None, None, 6), dtype=tf.float32, name='dense_3_input'), name='dense_3_input', description=\"created by layer 'dense_3_input'\"), but it was called on an input with incompatible shape (None, 6).\n",
            "WARNING:tensorflow:Model was constructed with shape (None, None, 6) for input KerasTensor(type_spec=TensorSpec(shape=(None, None, 6), dtype=tf.float32, name='dense_3_input'), name='dense_3_input', description=\"created by layer 'dense_3_input'\"), but it was called on an input with incompatible shape (None, 6).\n",
            "WARNING:tensorflow:Model was constructed with shape (None, None, 6) for input KerasTensor(type_spec=TensorSpec(shape=(None, None, 6), dtype=tf.float32, name='dense_3_input'), name='dense_3_input', description=\"created by layer 'dense_3_input'\"), but it was called on an input with incompatible shape (None, 6).\n"
          ],
          "name": "stdout"
        }
      ]
    },
    {
      "cell_type": "code",
      "metadata": {
        "colab": {
          "base_uri": "https://localhost:8080/",
          "height": 283
        },
        "id": "Iib4BHcd0Zd4",
        "outputId": "fe0c67a7-f21b-4502-af66-df115da40013"
      },
      "source": [
        "import matplotlib.pyplot as plt\n",
        "\n",
        "fig, loss_ax = plt.subplots()\n",
        "acc_ax = loss_ax.twinx()\n",
        "\n",
        "loss_ax.plot(hist_model.history['loss'], 'y', label='train loss')\n",
        "loss_ax.plot(hist_model.history['val_loss'], 'r', label='val loss')\n",
        "loss_ax.set_xlabel('epoch')\n",
        "loss_ax.set_ylabel('loss')\n",
        "loss_ax.legend(loc='upper left')\n",
        "\n",
        "#acc_ax.plot(hist.history['mae'], 'b', label='train mae')\n",
        "#acc_ax.plot(hist.history['val_mae'], 'g', label='val mae')\n",
        "#acc_ax.set_ylabel('mae')\n",
        "#acc_ax.legend(loc='upper left')\n",
        "\n",
        "plt.show()"
      ],
      "execution_count": null,
      "outputs": [
        {
          "output_type": "display_data",
          "data": {
            "image/png": "[encoded data removed]",
            "text/plain": [
              "<Figure size 432x288 with 2 Axes>"
            ]
          },
          "metadata": {
            "tags": [],
            "needs_background": "light"
          }
        }
      ]
    }
  ]
}