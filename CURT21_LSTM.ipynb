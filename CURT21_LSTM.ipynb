{
  "nbformat": 4,
  "nbformat_minor": 0,
  "metadata": {
    "colab": {
      "name": "CURT21_LSTM",
      "provenance": [],
      "toc_visible": true
    },
    "kernelspec": {
      "name": "python3",
      "display_name": "Python 3"
    },
    "language_info": {
      "name": "python"
    }
  },
  "cells": [
    {
      "cell_type": "code",
      "metadata": {
        "colab": {
          "base_uri": "https://localhost:8080/"
        },
        "id": "uqfmswdVMtjz",
        "outputId": "ea2ceab3-22a6-40fb-ed0f-29767523b8b0"
      },
      "source": [
        "from google.colab import drive\n",
        "drive.mount('/content/drive')"
      ],
      "execution_count": null,
      "outputs": [
        {
          "output_type": "stream",
          "text": [
            "Mounted at /content/drive\n"
          ],
          "name": "stdout"
        }
      ]
    },
    {
      "cell_type": "code",
      "metadata": {
        "id": "_v8Lgf95M29Q"
      },
      "source": [
        "path = '/content/drive/My Drive/custom_data/'\n",
        "import csv\n",
        "import pandas as pd\n",
        "import matplotlib.pyplot as plt\n",
        "import seaborn as sns\n",
        "import pandas as pd\n",
        "import numpy as np"
      ],
      "execution_count": null,
      "outputs": []
    },
    {
      "cell_type": "code",
      "metadata": {
        "id": "W8VTvcgErrRe"
      },
      "source": [
        "import pandas as pd\n",
        "ori_export = pd.read_csv(path+'exports.csv')\n",
        "ori_umcsent = pd.read_csv(path+'UMCSENT.csv', skiprows= 10 ,dtype = {'observation_date':str,'UMCSENT':float})\n",
        "ori_epu = pd.read_csv(path+'EPU.csv')"
      ],
      "execution_count": null,
      "outputs": []
    },
    {
      "cell_type": "code",
      "metadata": {
        "id": "VO-fiJ-Mrr9E"
      },
      "source": [
        "for i in ori_export.columns:\n",
        "  if i != '기간':\n",
        "    ori_export[i] = pd.to_numeric(ori_export[i].str.replace(pat=r'[^A-Za-z0-9]', repl= '', regex=True),downcast='float')"
      ],
      "execution_count": null,
      "outputs": []
    },
    {
      "cell_type": "code",
      "metadata": {
        "id": "fNDoxJgDrt3m"
      },
      "source": [
        "f1 = ori_epu['Three_Component_Index'][180:430]\n",
        "f1.index = np.arange(0,250)\n",
        "trn_y = ori_export['수출금액'][1:251]\n",
        "trn_y.index = np.arange(0,250)\n",
        "DATA = pd.concat([ori_umcsent['UMCSENT'][:250],f1,trn_y],axis=1,ignore_index=True)\n",
        "DATA.index = ori_export['기간'][1:251]"
      ],
      "execution_count": null,
      "outputs": []
    },
    {
      "cell_type": "code",
      "metadata": {
        "id": "d0oi9VZNrvI2"
      },
      "source": [
        "def scaling(x):\n",
        "  min_max_scaler = MinMaxScaler()\n",
        "  df = x.copy()\n",
        "  fitted = min_max_scaler.fit(x)\n",
        "  output = min_max_scaler.transform(x)\n",
        "  output = pd.DataFrame(output, columns=df.columns, index=list(df.index.values))\n",
        "  return output"
      ],
      "execution_count": null,
      "outputs": []
    },
    {
      "cell_type": "code",
      "metadata": {
        "colab": {
          "base_uri": "https://localhost:8080/",
          "height": 295
        },
        "id": "QpeOQUNUrx__",
        "outputId": "ba9c64bf-a25e-4aec-9cd0-945267a1b97a"
      },
      "source": [
        "from sklearn.preprocessing import MinMaxScaler\n",
        "X = scaling(DATA)\n",
        "X.describe()"
      ],
      "execution_count": null,
      "outputs": [
        {
          "output_type": "execute_result",
          "data": {
            "text/html": [
              "<div>\n",
              "<style scoped>\n",
              "    .dataframe tbody tr th:only-of-type {\n",
              "        vertical-align: middle;\n",
              "    }\n",
              "\n",
              "    .dataframe tbody tr th {\n",
              "        vertical-align: top;\n",
              "    }\n",
              "\n",
              "    .dataframe thead th {\n",
              "        text-align: right;\n",
              "    }\n",
              "</style>\n",
              "<table border=\"1\" class=\"dataframe\">\n",
              "  <thead>\n",
              "    <tr style=\"text-align: right;\">\n",
              "      <th></th>\n",
              "      <th>0</th>\n",
              "      <th>1</th>\n",
              "      <th>2</th>\n",
              "    </tr>\n",
              "  </thead>\n",
              "  <tbody>\n",
              "    <tr>\n",
              "      <th>count</th>\n",
              "      <td>250.000000</td>\n",
              "      <td>250.000000</td>\n",
              "      <td>250.000000</td>\n",
              "    </tr>\n",
              "    <tr>\n",
              "      <th>mean</th>\n",
              "      <td>0.534998</td>\n",
              "      <td>0.215624</td>\n",
              "      <td>0.526546</td>\n",
              "    </tr>\n",
              "    <tr>\n",
              "      <th>std</th>\n",
              "      <td>0.215383</td>\n",
              "      <td>0.152158</td>\n",
              "      <td>0.294877</td>\n",
              "    </tr>\n",
              "    <tr>\n",
              "      <th>min</th>\n",
              "      <td>0.000000</td>\n",
              "      <td>0.000000</td>\n",
              "      <td>0.000000</td>\n",
              "    </tr>\n",
              "    <tr>\n",
              "      <th>25%</th>\n",
              "      <td>0.369489</td>\n",
              "      <td>0.111933</td>\n",
              "      <td>0.273633</td>\n",
              "    </tr>\n",
              "    <tr>\n",
              "      <th>50%</th>\n",
              "      <td>0.582892</td>\n",
              "      <td>0.179071</td>\n",
              "      <td>0.603650</td>\n",
              "    </tr>\n",
              "    <tr>\n",
              "      <th>75%</th>\n",
              "      <td>0.694885</td>\n",
              "      <td>0.284004</td>\n",
              "      <td>0.792516</td>\n",
              "    </tr>\n",
              "    <tr>\n",
              "      <th>max</th>\n",
              "      <td>1.000000</td>\n",
              "      <td>1.000000</td>\n",
              "      <td>1.000000</td>\n",
              "    </tr>\n",
              "  </tbody>\n",
              "</table>\n",
              "</div>"
            ],
            "text/plain": [
              "                0           1           2\n",
              "count  250.000000  250.000000  250.000000\n",
              "mean     0.534998    0.215624    0.526546\n",
              "std      0.215383    0.152158    0.294877\n",
              "min      0.000000    0.000000    0.000000\n",
              "25%      0.369489    0.111933    0.273633\n",
              "50%      0.582892    0.179071    0.603650\n",
              "75%      0.694885    0.284004    0.792516\n",
              "max      1.000000    1.000000    1.000000"
            ]
          },
          "metadata": {
            "tags": []
          },
          "execution_count": 8
        }
      ]
    },
    {
      "cell_type": "markdown",
      "metadata": {
        "id": "Sum_GcheKx2f"
      },
      "source": [
        "#9pm"
      ]
    },
    {
      "cell_type": "code",
      "metadata": {
        "colab": {
          "base_uri": "https://localhost:8080/",
          "height": 203
        },
        "id": "KzKkDzfeKz3U",
        "outputId": "946160b3-792c-4ad0-ed8b-cec4f7c5dc57"
      },
      "source": [
        "X.head()"
      ],
      "execution_count": null,
      "outputs": [
        {
          "output_type": "execute_result",
          "data": {
            "text/html": [
              "<div>\n",
              "<style scoped>\n",
              "    .dataframe tbody tr th:only-of-type {\n",
              "        vertical-align: middle;\n",
              "    }\n",
              "\n",
              "    .dataframe tbody tr th {\n",
              "        vertical-align: top;\n",
              "    }\n",
              "\n",
              "    .dataframe thead th {\n",
              "        text-align: right;\n",
              "    }\n",
              "</style>\n",
              "<table border=\"1\" class=\"dataframe\">\n",
              "  <thead>\n",
              "    <tr style=\"text-align: right;\">\n",
              "      <th></th>\n",
              "      <th>0</th>\n",
              "      <th>1</th>\n",
              "      <th>2</th>\n",
              "    </tr>\n",
              "  </thead>\n",
              "  <tbody>\n",
              "    <tr>\n",
              "      <th>2000.01</th>\n",
              "      <td>1.000000</td>\n",
              "      <td>0.109116</td>\n",
              "      <td>0.025841</td>\n",
              "    </tr>\n",
              "    <tr>\n",
              "      <th>2000.02</th>\n",
              "      <td>0.987654</td>\n",
              "      <td>0.069559</td>\n",
              "      <td>0.037490</td>\n",
              "    </tr>\n",
              "    <tr>\n",
              "      <th>2000.03</th>\n",
              "      <td>0.913580</td>\n",
              "      <td>0.069378</td>\n",
              "      <td>0.077262</td>\n",
              "    </tr>\n",
              "    <tr>\n",
              "      <th>2000.04</th>\n",
              "      <td>0.950617</td>\n",
              "      <td>0.064301</td>\n",
              "      <td>0.056677</td>\n",
              "    </tr>\n",
              "    <tr>\n",
              "      <th>2000.05</th>\n",
              "      <td>0.977072</td>\n",
              "      <td>0.139071</td>\n",
              "      <td>0.081958</td>\n",
              "    </tr>\n",
              "  </tbody>\n",
              "</table>\n",
              "</div>"
            ],
            "text/plain": [
              "                0         1         2\n",
              "2000.01  1.000000  0.109116  0.025841\n",
              "2000.02  0.987654  0.069559  0.037490\n",
              "2000.03  0.913580  0.069378  0.077262\n",
              "2000.04  0.950617  0.064301  0.056677\n",
              "2000.05  0.977072  0.139071  0.081958"
            ]
          },
          "metadata": {
            "tags": []
          },
          "execution_count": 9
        }
      ]
    },
    {
      "cell_type": "markdown",
      "metadata": {
        "id": "ibtCgBc3rhOM"
      },
      "source": [
        "#Multi"
      ]
    },
    {
      "cell_type": "markdown",
      "metadata": {
        "id": "ntv7NTRYaqyj"
      },
      "source": [
        "[참고](https://ahnjg.tistory.com/33)"
      ]
    },
    {
      "cell_type": "code",
      "metadata": {
        "colab": {
          "base_uri": "https://localhost:8080/",
          "height": 295
        },
        "id": "PApaHu89Ovok",
        "outputId": "a5e7d0aa-2716-4deb-e76f-236a41ba0c4b"
      },
      "source": [
        "X.describe()"
      ],
      "execution_count": null,
      "outputs": [
        {
          "output_type": "execute_result",
          "data": {
            "text/html": [
              "<div>\n",
              "<style scoped>\n",
              "    .dataframe tbody tr th:only-of-type {\n",
              "        vertical-align: middle;\n",
              "    }\n",
              "\n",
              "    .dataframe tbody tr th {\n",
              "        vertical-align: top;\n",
              "    }\n",
              "\n",
              "    .dataframe thead th {\n",
              "        text-align: right;\n",
              "    }\n",
              "</style>\n",
              "<table border=\"1\" class=\"dataframe\">\n",
              "  <thead>\n",
              "    <tr style=\"text-align: right;\">\n",
              "      <th></th>\n",
              "      <th>0</th>\n",
              "      <th>1</th>\n",
              "      <th>2</th>\n",
              "    </tr>\n",
              "  </thead>\n",
              "  <tbody>\n",
              "    <tr>\n",
              "      <th>count</th>\n",
              "      <td>250.000000</td>\n",
              "      <td>250.000000</td>\n",
              "      <td>250.000000</td>\n",
              "    </tr>\n",
              "    <tr>\n",
              "      <th>mean</th>\n",
              "      <td>0.534998</td>\n",
              "      <td>0.215624</td>\n",
              "      <td>0.526546</td>\n",
              "    </tr>\n",
              "    <tr>\n",
              "      <th>std</th>\n",
              "      <td>0.215383</td>\n",
              "      <td>0.152158</td>\n",
              "      <td>0.294877</td>\n",
              "    </tr>\n",
              "    <tr>\n",
              "      <th>min</th>\n",
              "      <td>0.000000</td>\n",
              "      <td>0.000000</td>\n",
              "      <td>0.000000</td>\n",
              "    </tr>\n",
              "    <tr>\n",
              "      <th>25%</th>\n",
              "      <td>0.369489</td>\n",
              "      <td>0.111933</td>\n",
              "      <td>0.273633</td>\n",
              "    </tr>\n",
              "    <tr>\n",
              "      <th>50%</th>\n",
              "      <td>0.582892</td>\n",
              "      <td>0.179071</td>\n",
              "      <td>0.603650</td>\n",
              "    </tr>\n",
              "    <tr>\n",
              "      <th>75%</th>\n",
              "      <td>0.694885</td>\n",
              "      <td>0.284004</td>\n",
              "      <td>0.792516</td>\n",
              "    </tr>\n",
              "    <tr>\n",
              "      <th>max</th>\n",
              "      <td>1.000000</td>\n",
              "      <td>1.000000</td>\n",
              "      <td>1.000000</td>\n",
              "    </tr>\n",
              "  </tbody>\n",
              "</table>\n",
              "</div>"
            ],
            "text/plain": [
              "                0           1           2\n",
              "count  250.000000  250.000000  250.000000\n",
              "mean     0.534998    0.215624    0.526546\n",
              "std      0.215383    0.152158    0.294877\n",
              "min      0.000000    0.000000    0.000000\n",
              "25%      0.369489    0.111933    0.273633\n",
              "50%      0.582892    0.179071    0.603650\n",
              "75%      0.694885    0.284004    0.792516\n",
              "max      1.000000    1.000000    1.000000"
            ]
          },
          "metadata": {
            "tags": []
          },
          "execution_count": 88
        }
      ]
    },
    {
      "cell_type": "code",
      "metadata": {
        "id": "sDnytg4um0W2"
      },
      "source": [
        "def create_time_steps(length):\n",
        "  return list(range(-length,0))"
      ],
      "execution_count": null,
      "outputs": []
    },
    {
      "cell_type": "code",
      "metadata": {
        "id": "csfLW4W6kjE-"
      },
      "source": [
        "def multivariate_data(dataset,target,start_index,end_index,history_size,target_size,\n",
        "                      step,single_step=False):\n",
        "  data = []\n",
        "  labels = []\n",
        "\n",
        "  start_index = start_index + history_size\n",
        "  if end_index is None:\n",
        "    end_index = len(dataset)-target_size\n",
        "  \n",
        "  for i in range(start_index,end_index):\n",
        "    indices = range(i-history_size,i,step)\n",
        "    data.append(dataset[indices])\n",
        "\n",
        "    if single_step:\n",
        "      labels.append(target[i+target_size])\n",
        "    else:\n",
        "      labels.append(target[i:i+target_size])\n",
        "      \n",
        "  return np.array(data),np.array(labels)"
      ],
      "execution_count": null,
      "outputs": []
    },
    {
      "cell_type": "code",
      "metadata": {
        "id": "QgEuGZ2HEDxy"
      },
      "source": [
        "def plot_train_history(history,title):\n",
        "  loss = history.history['loss']\n",
        "  val_loss = history.history['val_loss']\n",
        "\n",
        "  epochs = range(len(loss))\n",
        "\n",
        "  plt.figure()\n",
        "  plt.plot(epochs,loss,'b',label='Training loss')\n",
        "  plt.title(title)\n",
        "  plt.legend()\n",
        "  plt.show()"
      ],
      "execution_count": null,
      "outputs": []
    },
    {
      "cell_type": "code",
      "metadata": {
        "id": "0FfxHZAZFurn"
      },
      "source": [
        "dataset = X.values"
      ],
      "execution_count": null,
      "outputs": []
    },
    {
      "cell_type": "code",
      "metadata": {
        "colab": {
          "base_uri": "https://localhost:8080/"
        },
        "id": "Lb5HvTPHF__A",
        "outputId": "2b9c37c3-cb7a-456b-8cf7-bad6ce1807dd"
      },
      "source": [
        "dataset.shape"
      ],
      "execution_count": null,
      "outputs": [
        {
          "output_type": "execute_result",
          "data": {
            "text/plain": [
              "(250, 3)"
            ]
          },
          "metadata": {
            "tags": []
          },
          "execution_count": 91
        }
      ]
    },
    {
      "cell_type": "code",
      "metadata": {
        "id": "8FaYT5-jsQME"
      },
      "source": [
        "future_target = 5\n",
        "past_history = 5\n",
        "step = 1\n",
        "\n",
        "x_train,y_train = multivariate_data(dataset,dataset[:,2],0,125,\n",
        "                                  past_history,\n",
        "                                  future_target,step)\n",
        "x_val,y_val = multivariate_data(dataset,dataset[:,2],125,150,\n",
        "                                  past_history,\n",
        "                                  future_target,step)"
      ],
      "execution_count": null,
      "outputs": []
    },
    {
      "cell_type": "code",
      "metadata": {
        "colab": {
          "base_uri": "https://localhost:8080/"
        },
        "id": "ta0pJkWASGAO",
        "outputId": "32112f2f-5dea-46b8-cfe7-260c7d9e97b6"
      },
      "source": [
        "x_test.shape"
      ],
      "execution_count": null,
      "outputs": [
        {
          "output_type": "execute_result",
          "data": {
            "text/plain": [
              "(100, 5, 3)"
            ]
          },
          "metadata": {
            "tags": []
          },
          "execution_count": 287
        }
      ]
    },
    {
      "cell_type": "code",
      "metadata": {
        "colab": {
          "base_uri": "https://localhost:8080/"
        },
        "id": "-nPpJKB8FiSD",
        "outputId": "43f675d6-aea9-43f2-890f-a4a2a7fd9d01"
      },
      "source": [
        "print('single window of past history : {}'.format(x_train[0].shape))\n",
        "print('target to predict : {}'.format(y_train[0].shape))"
      ],
      "execution_count": null,
      "outputs": [
        {
          "output_type": "stream",
          "text": [
            "single window of past history : (5, 3)\n",
            "target to predict : (5,)\n"
          ],
          "name": "stdout"
        }
      ]
    },
    {
      "cell_type": "code",
      "metadata": {
        "id": "ELBI0GsuKkt3"
      },
      "source": [
        "buffer_size = 95\n",
        "batch_size = 16\n",
        "train_data_multi = tf.data.Dataset.from_tensor_slices((x_train,y_train))\n",
        "train_data_multi = train_data_multi.cache().shuffle(buffer_size).batch(batch_size).repeat()\n",
        "\n",
        "val_data_multi = tf.data.Dataset.from_tensor_slices((x_val,y_val))\n",
        "val_data_multi = val_data_multi.cache().shuffle(buffer_size).batch(batch_size).repeat()"
      ],
      "execution_count": null,
      "outputs": []
    },
    {
      "cell_type": "code",
      "metadata": {
        "id": "um3PvW-6GIGo"
      },
      "source": [
        "def multi_step_plot(history,true_future,prediction):\n",
        "  plt.figure(figsize=(12,6))\n",
        "  num_in = create_time_steps(len(history))\n",
        "  num_out = len(true_future)\n",
        "\n",
        "  plt.plot(num_in,np.array(history[:,2]), label = 'history')\n",
        "  plt.plot(np.arange(num_out)/step,np.array(true_future),'bo',label='True future')\n",
        "\n",
        "  if prediction.any():\n",
        "    plt.plot(np.arange(num_out)/step,np.array(prediction),'ro',label='predicted future')\n",
        "  plt.legend(loc='upper left')\n",
        "  plt.show()"
      ],
      "execution_count": null,
      "outputs": []
    },
    {
      "cell_type": "code",
      "metadata": {
        "colab": {
          "base_uri": "https://localhost:8080/",
          "height": 374
        },
        "id": "OaC_nfvuL9Pv",
        "outputId": "c97669d7-af5b-4b01-9e59-b124ef48229b"
      },
      "source": [
        "for x,y in train_data_multi.take(1):\n",
        "  multi_step_plot(x[0],y[0],np.array([0]))"
      ],
      "execution_count": null,
      "outputs": [
        {
          "output_type": "display_data",
          "data": {
            "image/png": "[encoded data removed]",
            "text/plain": [
              "<Figure size 864x432 with 1 Axes>"
            ]
          },
          "metadata": {
            "tags": [],
            "needs_background": "light"
          }
        }
      ]
    },
    {
      "cell_type": "code",
      "metadata": {
        "colab": {
          "base_uri": "https://localhost:8080/"
        },
        "id": "vgieJL-DIzy2",
        "outputId": "3fcf88c6-0d1e-44e8-adc9-375cbcf6d183"
      },
      "source": [
        "import tensorflow as tf\n",
        "\n",
        "multi_step_model = tf.keras.models.Sequential()\n",
        "multi_step_model.add(tf.keras.layers.LSTM(32,\n",
        "                                          return_sequences=True,\n",
        "                                          input_shape=x_train.shape[-2:]))\n",
        "multi_step_model.add(tf.keras.layers.LSTM(16,activation='relu'))\n",
        "multi_step_model.add(tf.keras.layers.Dense(5))\n",
        "\n",
        "multi_step_model.compile(optimizer='adam',loss='mse')\n",
        "multi_step_model.summary()"
      ],
      "execution_count": null,
      "outputs": [
        {
          "output_type": "stream",
          "text": [
            "Model: \"sequential_14\"\n",
            "_________________________________________________________________\n",
            "Layer (type)                 Output Shape              Param #   \n",
            "=================================================================\n",
            "lstm_26 (LSTM)               (None, 5, 32)             4608      \n",
            "_________________________________________________________________\n",
            "lstm_27 (LSTM)               (None, 16)                3136      \n",
            "_________________________________________________________________\n",
            "dense_13 (Dense)             (None, 5)                 85        \n",
            "=================================================================\n",
            "Total params: 7,829\n",
            "Trainable params: 7,829\n",
            "Non-trainable params: 0\n",
            "_________________________________________________________________\n"
          ],
          "name": "stdout"
        }
      ]
    },
    {
      "cell_type": "code",
      "metadata": {
        "colab": {
          "base_uri": "https://localhost:8080/"
        },
        "id": "mRPq33HBJvUT",
        "outputId": "4caa61c0-36c2-4c67-e716-f48e504d4549"
      },
      "source": [
        "x_train.shape[-2:]"
      ],
      "execution_count": null,
      "outputs": [
        {
          "output_type": "execute_result",
          "data": {
            "text/plain": [
              "(5, 3)"
            ]
          },
          "metadata": {
            "tags": []
          },
          "execution_count": 293
        }
      ]
    },
    {
      "cell_type": "code",
      "metadata": {
        "id": "qF6RYFHIKGpJ"
      },
      "source": [
        "multi_step_history = multi_step_model.fit(train_data_multi,epochs=10,\n",
        "                                          steps_per_epoch=10,\n",
        "                                          validation_steps=50,\n",
        "                                          validation_data=val_data_multi,\n",
        "                                          verbose=0)"
      ],
      "execution_count": null,
      "outputs": []
    },
    {
      "cell_type": "code",
      "metadata": {
        "colab": {
          "base_uri": "https://localhost:8080/",
          "height": 281
        },
        "id": "xfJ79W-tKdyS",
        "outputId": "6ed58ec0-ff97-4e23-ffef-e79dd9eed08a"
      },
      "source": [
        "plot_train_history(multi_step_history,'multi loss')"
      ],
      "execution_count": null,
      "outputs": [
        {
          "output_type": "display_data",
          "data": {
            "image/png": "[encoded data removed]",
            "text/plain": [
              "<Figure size 432x288 with 1 Axes>"
            ]
          },
          "metadata": {
            "tags": [],
            "needs_background": "light"
          }
        }
      ]
    },
    {
      "cell_type": "code",
      "metadata": {
        "colab": {
          "base_uri": "https://localhost:8080/",
          "height": 283
        },
        "id": "5qAugJ9ILn_Z",
        "outputId": "e5117e21-56cd-433d-bf13-eeafd8a96745"
      },
      "source": [
        "import matplotlib.pyplot as plt\n",
        "\n",
        "fig, loss_ax = plt.subplots()\n",
        "acc_ax = loss_ax.twinx()\n",
        "\n",
        "loss_ax.plot(multi_step_history.history['loss'], 'y', label='train loss')\n",
        "loss_ax.plot(multi_step_history.history['val_loss'], 'r', label='val loss')\n",
        "loss_ax.set_xlabel('epoch')\n",
        "loss_ax.set_ylabel('loss')\n",
        "loss_ax.legend(loc='upper left')\n",
        "\n",
        "#acc_ax.plot(hist.history['mae'], 'b', label='train mae')\n",
        "#acc_ax.plot(hist.history['val_mae'], 'g', label='val mae')\n",
        "#acc_ax.set_ylabel('mae')\n",
        "#acc_ax.legend(loc='upper left')\n",
        "\n",
        "plt.show()"
      ],
      "execution_count": null,
      "outputs": [
        {
          "output_type": "display_data",
          "data": {
            "image/png": "[encoded data removed]",
            "text/plain": [
              "<Figure size 432x288 with 2 Axes>"
            ]
          },
          "metadata": {
            "tags": [],
            "needs_background": "light"
          }
        }
      ]
    },
    {
      "cell_type": "code",
      "metadata": {
        "colab": {
          "base_uri": "https://localhost:8080/",
          "height": 392
        },
        "id": "O0ZS5Q0lPuES",
        "outputId": "0b0737d8-e1f1-420d-f369-d4bd95b3c7ce"
      },
      "source": [
        "for x,y in val_data_multi.take(1):\n",
        "  print(x.shape)\n",
        "  multi_step_plot(x[0],y[0],multi_step_model.predict(x)[0])"
      ],
      "execution_count": null,
      "outputs": [
        {
          "output_type": "stream",
          "text": [
            "(16, 5, 3)\n"
          ],
          "name": "stdout"
        },
        {
          "output_type": "display_data",
          "data": {
            "image/png": "[encoded data removed]",
            "text/plain": [
              "<Figure size 864x432 with 1 Axes>"
            ]
          },
          "metadata": {
            "tags": [],
            "needs_background": "light"
          }
        }
      ]
    },
    {
      "cell_type": "code",
      "metadata": {
        "colab": {
          "base_uri": "https://localhost:8080/"
        },
        "id": "un1PPYx7QLuZ",
        "outputId": "576891fc-d0b8-4267-af23-88fced7730a6"
      },
      "source": [
        "import numpy as np\n",
        "\n",
        "multi_step_model.predict(x_test[0].reshape(1,5,3))"
      ],
      "execution_count": null,
      "outputs": [
        {
          "output_type": "execute_result",
          "data": {
            "text/plain": [
              "array([[0.8612239 , 0.90870506, 0.8610066 , 0.87993413, 0.85399103]],\n",
              "      dtype=float32)"
            ]
          },
          "metadata": {
            "tags": []
          },
          "execution_count": 309
        }
      ]
    },
    {
      "cell_type": "code",
      "metadata": {
        "colab": {
          "base_uri": "https://localhost:8080/"
        },
        "id": "Pk-bKszJSaZ5",
        "outputId": "d363898e-9cf9-4328-d27d-cb5b8d2552b7"
      },
      "source": [
        "x_test[0].reshape(1,5,3).shape"
      ],
      "execution_count": null,
      "outputs": [
        {
          "output_type": "execute_result",
          "data": {
            "text/plain": [
              "(1, 5, 3)"
            ]
          },
          "metadata": {
            "tags": []
          },
          "execution_count": 310
        }
      ]
    },
    {
      "cell_type": "code",
      "metadata": {
        "colab": {
          "base_uri": "https://localhost:8080/"
        },
        "id": "YGlcIbK7SrCh",
        "outputId": "f058b490-c651-4385-f9a2-42ffc52c6bae"
      },
      "source": [
        "x_test,y_test = multivariate_data(dataset,dataset[:,2],145,250,\n",
        "                                  past_history,\n",
        "                                  future_target,step)"
      ],
      "execution_count": null,
      "outputs": [
        {
          "output_type": "stream",
          "text": [
            "/usr/local/lib/python3.7/dist-packages/ipykernel_launcher.py:19: VisibleDeprecationWarning: Creating an ndarray from ragged nested sequences (which is a list-or-tuple of lists-or-tuples-or ndarrays with different lengths or shapes) is deprecated. If you meant to do this, you must specify 'dtype=object' when creating the ndarray\n"
          ],
          "name": "stderr"
        }
      ]
    },
    {
      "cell_type": "code",
      "metadata": {
        "colab": {
          "base_uri": "https://localhost:8080/"
        },
        "id": "_iZspPGAU2QU",
        "outputId": "c2d756a1-99fe-447e-e37a-d3496ee28ae4"
      },
      "source": [
        "x_test.shape"
      ],
      "execution_count": null,
      "outputs": [
        {
          "output_type": "execute_result",
          "data": {
            "text/plain": [
              "(100, 5, 3)"
            ]
          },
          "metadata": {
            "tags": []
          },
          "execution_count": 312
        }
      ]
    },
    {
      "cell_type": "code",
      "metadata": {
        "id": "XpHsAiUdU3GB"
      },
      "source": [
        "y_pred = []\n",
        "for i in range(20):\n",
        "  data = x_test[5*i].reshape(1,5,3)\n",
        "  y_pred.append(multi_step_model.predict(data))"
      ],
      "execution_count": null,
      "outputs": []
    },
    {
      "cell_type": "code",
      "metadata": {
        "colab": {
          "base_uri": "https://localhost:8080/"
        },
        "id": "JKWA2syfVjzr",
        "outputId": "77a3df7e-18d6-41d4-b465-a8acf29a9378"
      },
      "source": [
        "y_pred = np.array(y_pred)\n",
        "y_pred.shape"
      ],
      "execution_count": null,
      "outputs": [
        {
          "output_type": "execute_result",
          "data": {
            "text/plain": [
              "(20, 1, 5)"
            ]
          },
          "metadata": {
            "tags": []
          },
          "execution_count": 314
        }
      ]
    },
    {
      "cell_type": "code",
      "metadata": {
        "colab": {
          "base_uri": "https://localhost:8080/",
          "height": 308
        },
        "id": "c31N6bAqVlOy",
        "outputId": "210a6ed8-7e2f-4d7c-8f42-08ca37d6a716"
      },
      "source": [
        "y_ = y_pred.flatten()\n",
        "R_y = X[2].values[-100:]\n",
        "days = np.arange(100)\n",
        "plt.figure(figsize=(23,5))\n",
        "plt.plot(days,R_y,'r',days,y_)"
      ],
      "execution_count": null,
      "outputs": [
        {
          "output_type": "execute_result",
          "data": {
            "text/plain": [
              "[<matplotlib.lines.Line2D at 0x7fe68d33d5d0>,\n",
              " <matplotlib.lines.Line2D at 0x7fe68d33dad0>]"
            ]
          },
          "metadata": {
            "tags": []
          },
          "execution_count": 315
        },
        {
          "output_type": "display_data",
          "data": {
            "image/png": "[encoded data removed]",
            "text/plain": [
              "<Figure size 1656x360 with 1 Axes>"
            ]
          },
          "metadata": {
            "tags": [],
            "needs_background": "light"
          }
        }
      ]
    },
    {
      "cell_type": "code",
      "metadata": {
        "id": "xHJHh4VXgC06"
      },
      "source": [
        "np.savetxt(path+'LSTM.txt', y_, fmt='%.6f', delimiter=',')"
      ],
      "execution_count": null,
      "outputs": []
    },
    {
      "cell_type": "markdown",
      "metadata": {
        "id": "Q5czoM1BigFy"
      },
      "source": [
        "# 파라미터 TRAIN 125,epochs=10, steps_per_epoch=10,validation_steps=50"
      ]
    }
  ]
}